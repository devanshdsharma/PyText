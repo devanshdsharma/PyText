{
 "cells": [
  {
   "cell_type": "code",
   "execution_count": null,
   "metadata": {},
   "outputs": [],
   "source": [
    "import re\n",
    "import os\n",
    "from datetime import datetime as dt\n",
    "from dateutil.parser import parse"
   ]
  },
  {
   "cell_type": "markdown",
   "metadata": {},
   "source": [
    "Q1) Write a Python program that matches a string that has an a followed by zero or more b's"
   ]
  },
  {
   "cell_type": "code",
   "execution_count": null,
   "metadata": {},
   "outputs": [],
   "source": [
    "''' The function i built intends to find a non case sensitive pattern of ab or a0 i.e \"a\" followed by zero or more \"b\" '''\n",
    "\n",
    "def str_match(text1):\n",
    "    pattern1 = 'ab*?'\n",
    "    ''' \"*\" quantifier used to find 0 or more instances, likewise,  \"?\" used to find 0 or one instance of the pattern\n",
    "    being searched '''\n",
    "    if re.search(pattern1 , text1, re.IGNORECASE):\n",
    "        return 'Matched'\n",
    "    else:\n",
    "        return('No match found')\n",
    "print(str_match(input('enter charaters to match \\n')))\n",
    "# r used for getting the raw string from the input"
   ]
  },
  {
   "cell_type": "markdown",
   "metadata": {},
   "source": [
    "Q2) Write a Python program to find sequences of one upper case letter followed by lower case letters"
   ]
  },
  {
   "cell_type": "code",
   "execution_count": null,
   "metadata": {},
   "outputs": [],
   "source": [
    "def case_Match(text2):\n",
    "    pat2 = '[A-Z]?[a-z]+$' #[a-z]+_[a-z]+$'\n",
    "    #\"?\" for finding just one instance of upper case letter and \"+\" used to find one or more instance of lower case alphabets \n",
    "    #\"$\" used to find match at the end\n",
    "    if re.search(pat2,  text2):\n",
    "            return 'Matched!'\n",
    "    else:\n",
    "            return('No match found!')\n",
    "\n",
    "print(case_Match(input('enter stuff \\n')))"
   ]
  },
  {
   "cell_type": "markdown",
   "metadata": {},
   "source": [
    "Q3) Write a Python program that matches a string that has an 'a' followed by anything,\n",
    "ending in 'b'"
   ]
  },
  {
   "cell_type": "code",
   "execution_count": null,
   "metadata": {},
   "outputs": [],
   "source": [
    "def startA_EndB(text3):\n",
    "    pat3 = '^a.*?b$'\n",
    "    if re.search(pat3, text3, re.IGNORECASE):\n",
    "        return 'Match found'\n",
    "    else:\n",
    "        return 'No Match found'\n",
    "print(startA_EndB(input('Enter stuff')))"
   ]
  },
  {
   "cell_type": "markdown",
   "metadata": {},
   "source": [
    "Q4) Write a Python program that matches a word containing 'z', not start or end of the word"
   ]
  },
  {
   "cell_type": "code",
   "execution_count": null,
   "metadata": {},
   "outputs": [],
   "source": [
    "def containZ(text4):\n",
    "    pat4 = '\\Bz\\B'\n",
    "    # \\B gives cases when Z is not at a word boundary\n",
    "    if re.search(pat4, text4, re.IGNORECASE): #ignores case, remove this arg to find cases of only lower case \"z\"\n",
    "        return 'Match Found'\n",
    "    else:\n",
    "        return 'No Match Found'\n",
    "print(containZ(input('Enter text to check if it contains the alphabet \"Z\"  (non case sensitive)')))"
   ]
  },
  {
   "cell_type": "markdown",
   "metadata": {},
   "source": [
    "Q4) Write a Python program to split a string with multiple delimiters"
   ]
  },
  {
   "cell_type": "code",
   "execution_count": null,
   "metadata": {},
   "outputs": [],
   "source": [
    "#check Done\n",
    "str ='split, string; with*multiple\\ndelimiters'\n",
    "re.split('; |, |\\*|\\n',str)"
   ]
  },
  {
   "cell_type": "markdown",
   "metadata": {},
   "source": [
    "Write a Python program to find all adverbs and their positions in a given sentence (do\n",
    "this exercise for English adverbs and French adverbs)"
   ]
  },
  {
   "cell_type": "code",
   "execution_count": null,
   "metadata": {},
   "outputs": [],
   "source": [
    "sample_English = \"Python is particularly used as a scripting language to automate simple but tedious tasks\"\n",
    "for m in re.finditer(r\"\\w+ly\", sample_English):\n",
    "    print('%d-%d: %s' % (m.start(), m.end(), m.group(0)))\n",
    "# The numbers in the output correspond to the indexes of the words"
   ]
  },
  {
   "cell_type": "code",
   "execution_count": null,
   "metadata": {},
   "outputs": [],
   "source": [
    "sample_French = \"Python est cependant particulièrement utilisé comme langage de script pour automatiser des tâches simples mais fastidieuses\"\n",
    "for m in re.finditer(r\"\\w+ment\", sample_French):\n",
    "    print('%d-%d: %s' %(m.start(), m.end(), m.group()))\n",
    "# The numbers in the output correspond to the indexes of the words"
   ]
  },
  {
   "cell_type": "markdown",
   "metadata": {},
   "source": [
    "Q7) write a Python program to find all Dates in a text (Both French Format and English\n",
    "Format )"
   ]
  },
  {
   "cell_type": "code",
   "execution_count": null,
   "metadata": {},
   "outputs": [],
   "source": [
    "str = \"Hey Python, Find the date, it's here ---> 2018-12-10  <--- here\"\n",
    "match = re.search('\\d{4}-\\d{2}-\\d{2}', str)\n",
    "date = dt.strptime(match.group(), '%Y-%m-%d').date()\n",
    "print(date)"
   ]
  },
  {
   "cell_type": "code",
   "execution_count": null,
   "metadata": {},
   "outputs": [],
   "source": [
    "#french\n",
    "parse('aujourd\\'hui est la 1er Fèvrier 2019 ', fuzzy=True)\n",
    "#gives date in yyyy mm dd format"
   ]
  },
  {
   "cell_type": "code",
   "execution_count": null,
   "metadata": {},
   "outputs": [],
   "source": [
    "# english\n",
    "parse('today is 1st February 2019 ', fuzzy=True)\n",
    "#gives date in yyyy mm dd format"
   ]
  },
  {
   "cell_type": "code",
   "execution_count": null,
   "metadata": {},
   "outputs": [],
   "source": []
  }
 ],
 "metadata": {
  "kernelspec": {
   "display_name": "Python 3",
   "language": "python",
   "name": "python3"
  },
  "language_info": {
   "codemirror_mode": {
    "name": "ipython",
    "version": 3
   },
   "file_extension": ".py",
   "mimetype": "text/x-python",
   "name": "python",
   "nbconvert_exporter": "python",
   "pygments_lexer": "ipython3",
   "version": "3.7.1"
  }
 },
 "nbformat": 4,
 "nbformat_minor": 2
}
